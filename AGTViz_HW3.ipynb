{
 "cells": [
  {
   "cell_type": "markdown",
   "metadata": {},
   "source": [
    "# Homework №3"
   ]
  },
  {
   "cell_type": "markdown",
   "metadata": {},
   "source": [
    "### <center>Student: *Smirnov Aleksandr*</center>"
   ]
  },
  {
   "cell_type": "markdown",
   "metadata": {},
   "source": [
    "# Description"
   ]
  },
  {
   "cell_type": "markdown",
   "metadata": {},
   "source": [
    "1. Those how are making projects on artilces: half of you need to choose co-authorship graph!, others - citation (but consider citation graph as undirected for simplicity)\n",
    "2. Use weighted graph so that it would give you ability to calculate embeddings in more appropriate way"
   ]
  },
  {
   "cell_type": "markdown",
   "metadata": {},
   "source": [
    "### Guidelines:"
   ]
  },
  {
   "cell_type": "markdown",
   "metadata": {},
   "source": [
    "1. Initiallize your classification set as follows:\n",
    "    * Determine training and testing intervals on your time domain (for example, take a period $2000$-$2014$ as training period and $2015$-$2018$ as testing period)\n",
    "    * Pick pairs of nodes that **have appeared during training interval** but **had no links** during it\n",
    "    * These pairs form **positive** or **negative** examples depending on whether they have formed coauthorships **during the testing interval**\n",
    "    * You have arrived to binary classification problem.\n",
    "2. Construct feature space:\n",
    "    * Use at least 2 features based on neighborhood \n",
    "    * Use at least 2 fetures based on shortest path\n",
    "    * Use embedding representation of nodes' pairs (for example, node2vec)\n",
    "    * Use idea of time series features (with time lag)\n",
    "    * Use idea of change-point detection\n",
    "3. Choose at least $3$ classification algorithms and compare them in terms of Accuracy, Precision, Recall, F-Score (for positive class) and Mean Squared Error. Use k-fold cross-validation and average your results"
   ]
  },
  {
   "cell_type": "markdown",
   "metadata": {},
   "source": [
    " "
   ]
  },
  {
   "cell_type": "markdown",
   "metadata": {},
   "source": [
    " "
   ]
  },
  {
   "cell_type": "markdown",
   "metadata": {},
   "source": [
    "Firstly, let's upload our data\n",
    "\n",
    "As far, as I've understood, in order to use the idea of time series, we have to devide our initial data by some lag, for this case, let it be 1 year"
   ]
  },
  {
   "cell_type": "code",
   "execution_count": 444,
   "metadata": {},
   "outputs": [],
   "source": [
    "import pandas\n",
    "from node2vec import Node2Vec\n",
    "from node2vec.edges import HadamardEmbedder\n",
    "from networkx.classes.function import density\n",
    "import numpy as np\n",
    "import scipy as sp\n",
    "import networkx as nx\n",
    "\n",
    "%matplotlib inline"
   ]
  },
  {
   "cell_type": "code",
   "execution_count": 3,
   "metadata": {},
   "outputs": [],
   "source": [
    "Articles = pandas.read_excel('articles.xls')\n",
    "Articles = Articles.dropna()"
   ]
  },
  {
   "cell_type": "code",
   "execution_count": 23,
   "metadata": {},
   "outputs": [],
   "source": [
    "train_authors = []\n",
    "test_authors = []\n",
    "for i in range(len(Articles)):\n",
    "    try:\n",
    "        if Articles['date'][i].year <= 2015:\n",
    "            train_authors.append(Articles['Author'][i])\n",
    "        else:\n",
    "            test_authors.append(Articles['Author'][i])\n",
    "    except:\n",
    "        pass"
   ]
  },
  {
   "cell_type": "code",
   "execution_count": 22,
   "metadata": {},
   "outputs": [
    {
     "data": {
      "text/plain": [
       "dict_keys([2016, 2018, 2014, 2019, 2010, 2013, 2015, 2017, 2011, 2012])"
      ]
     },
     "execution_count": 22,
     "metadata": {},
     "output_type": "execute_result"
    }
   ],
   "source": [
    "years.keys()"
   ]
  },
  {
   "cell_type": "code",
   "execution_count": 62,
   "metadata": {},
   "outputs": [
    {
     "data": {
      "text/plain": [
       "[(2010, 999),\n",
       " (2011, 1500),\n",
       " (2012, 1000),\n",
       " (2013, 1499),\n",
       " (2014, 1999),\n",
       " (2015, 1000),\n",
       " (2016, 2748),\n",
       " (2017, 2499),\n",
       " (2018, 1449),\n",
       " (2019, 1675)]"
      ]
     },
     "execution_count": 62,
     "metadata": {},
     "output_type": "execute_result"
    }
   ],
   "source": [
    "sorted(list(zip(years.keys(), map(lambda x: len(years[x]), years))), key=lambda x: x[0])"
   ]
  },
  {
   "cell_type": "markdown",
   "metadata": {},
   "source": [
    "Now, as our data has been devided by years, we can take 3 years in a row and make training data out of them.\n",
    "\n",
    "We will calculate some features for first two years, and get our target values from the third year"
   ]
  },
  {
   "cell_type": "markdown",
   "metadata": {},
   "source": [
    "Here are some helping functions like *del_all_extras* in order to delete all nodes wich are not in a target domain, sure, we will compute all of our metrics like shortest path on a default graphs"
   ]
  },
  {
   "cell_type": "code",
   "execution_count": 141,
   "metadata": {},
   "outputs": [],
   "source": [
    "def del_extra_nodes(first_G, second_G):\n",
    "    for node in first_G.copy():\n",
    "        if node not in second_G:\n",
    "            first_G.remove_node(node)\n",
    "            \n",
    "\n",
    "def del_all_extras(G_1, G_2, G_3):\n",
    "    del_extra_nodes(G_1, G_2)\n",
    "    del_extra_nodes(G_1, G_3)\n",
    "    del_extra_nodes(G_2, G_1)\n",
    "    del_extra_nodes(G_2, G_3)\n",
    "    del_extra_nodes(G_3, G_1)\n",
    "    del_extra_nodes(G_3, G_2)\n",
    "            \n",
    "        \n",
    "def get_not_connected(G):\n",
    "    not_connected = []\n",
    "    for node_1 in G.nodes():\n",
    "        for node_2 in G.nodes():\n",
    "            if node_1 < node_2 and not G.has_edge(node_1, node_2):\n",
    "                not_connected.append((node_1, node_2))\n",
    "    return not_connected\n",
    "\n",
    "\n",
    "def edge_tuple(node_1, node_2):\n",
    "    return (min(node_1, node_2), max(node_1, node_2))\n",
    "    \n",
    "\n",
    "def collect_edges(authors):\n",
    "    res={}\n",
    "    for i in authors:\n",
    "        try:\n",
    "            aus=i.split(';')\n",
    "            auids=[l.split(':')[1] for l in aus]\n",
    "            for j in auids:\n",
    "                c=Counter([k for k in auids if k!=j])\n",
    "                if j in res:\n",
    "                    res[j]+=c\n",
    "                else:\n",
    "                    res[j]=c\n",
    "        except IndexError:\n",
    "            continue\n",
    "            \n",
    "    edges=[]\n",
    "    for k, v in res.items():\n",
    "        for j, w in v.items():\n",
    "            edges.append((k, j, w))\n",
    "            \n",
    "    return edges"
   ]
  },
  {
   "cell_type": "markdown",
   "metadata": {},
   "source": [
    "Here lay all functions for feature computation\n",
    "\n",
    "For features based on neighborhood we will use: jaccard coefficient and number of common neighbors between two nodes\n",
    "For features based on shortest path we will use: length of the shortest path and page range between two nodes\n",
    "Also we will compute node2vec embedding representation of nodes' pairs\n",
    "And as for change-point detection we will use graph density, closeness_centrality and betweenness_centrality\n"
   ]
  },
  {
   "cell_type": "code",
   "execution_count": 249,
   "metadata": {},
   "outputs": [],
   "source": [
    "def compute_jaccard(G_1, G_2, not_connected, X):\n",
    "    preds_1 = nx.jaccard_coefficient(G_1, not_connected)\n",
    "    preds_2 = nx.jaccard_coefficient(G_2, not_connected)\n",
    "    \n",
    "    for from_v, to_v, coeff in preds_1:\n",
    "        X[edge_tuple(from_v, to_v)].append(coeff)\n",
    "    \n",
    "    for from_v, to_v, coeff in preds_2:\n",
    "        X[edge_tuple(from_v, to_v)].append(coeff)\n",
    "        \n",
    "\n",
    "def compute_common_neighbors(G_1, G_2, not_connected, X):\n",
    "    for (from_v, to_v) in not_connected:\n",
    "        X[edge_tuple(from_v, to_v)].append(len(list(nx.common_neighbors(G_1, from_v, to_v))))\n",
    "        X[edge_tuple(from_v, to_v)].append(len(list(nx.common_neighbors(G_2, from_v, to_v))))\n",
    "        \n",
    "        \n",
    "def compute_shortest_paths(G_1, G_2, not_connected, X):\n",
    "    for (from_v, to_v) in not_connected:\n",
    "        if nx.has_path(G_1, from_v, to_v):\n",
    "            X[edge_tuple(from_v, to_v)].append(nx.shortest_path_length(G_1, from_v, to_v))\n",
    "        else: \n",
    "            X[edge_tuple(from_v, to_v)].append(10**5)\n",
    "            \n",
    "        if nx.has_path(G_2, from_v, to_v):\n",
    "            X[edge_tuple(from_v, to_v)].append(nx.shortest_path_length(G_2, from_v, to_v))\n",
    "        else: \n",
    "            X[edge_tuple(from_v, to_v)].append(10**5)    \n",
    "            \n",
    "def compute_pagerank(G_1, G_2, not_connected, X):\n",
    "    pr_1 = nx.pagerank(G_1)\n",
    "    pr_2 = nx.pagerank(G_2)\n",
    "    \n",
    "    for (from_v, to_v) in not_connected:\n",
    "        X[edge_tuple(from_v, to_v)].append(np.mean((pr_1[from_v], pr_1[to_v])))\n",
    "        X[edge_tuple(from_v, to_v)].append(np.mean((pr_2[from_v], pr_2[to_v])))\n",
    "        \n",
    "        \n",
    "def compute_node2vec(G_1, G_2, not_connected, X):\n",
    "    # Precompute probabilities and generate walks\n",
    "    node2vec_1 = Node2Vec(G_1, dimensions=64, walk_length=30, num_walks=200, workers=4, quiet=True)\n",
    "    model_1 = node2vec_1.fit()\n",
    "    edges_embs_1 = HadamardEmbedder(keyed_vectors=model_1.wv)\n",
    "    \n",
    "    node2vec_2 = Node2Vec(G_2, dimensions=64, walk_length=30, num_walks=200, workers=4, quiet=True)\n",
    "    model_2 = node2vec_2.fit()\n",
    "    edges_embs_2 = HadamardEmbedder(keyed_vectors=model_2.wv)\n",
    "    \n",
    "    for (from_v, to_v) in not_connected:\n",
    "        for emb in edges_embs_1[(from_v, to_v)]:\n",
    "            X[edge_tuple(from_v, to_v)].append(emb)\n",
    "        \n",
    "        for emb in edges_embs_2[(from_v, to_v)]:\n",
    "            X[edge_tuple(from_v, to_v)].append(emb)\n",
    "            \n",
    "            \n",
    "def compute_density(G_1, G_2, X):\n",
    "    d_1 = density(G_1)\n",
    "    d_2 = density(G_2)\n",
    "    \n",
    "    for edge in X:\n",
    "        X[edge].append(d_1)\n",
    "        X[edge].append(d_2)\n",
    "        \n",
    "\n",
    "def compute_closeness_centrality(G_1, G_2, X):\n",
    "    CC_1 = np.mean([i for _, i in nx.closeness_centrality(G_1).items()])\n",
    "    CC_2 = np.mean([i for _, i in nx.closeness_centrality(G_2).items()])\n",
    "    for edge in X:\n",
    "        X[edge].append(CC_1)\n",
    "        X[edge].append(CC_2)\n",
    "        \n",
    "        \n",
    "def compute_betweenness_centrality(G_1, G_2, X):\n",
    "    BC_1 = np.mean([i for _, i in nx.betweenness_centrality(G_1).items()])\n",
    "    BC_2 = np.mean([i for _, i in nx.betweenness_centrality(G_2).items()])\n",
    "    for edge in X:\n",
    "        X[edge].append(BC_1)\n",
    "        X[edge].append(BC_2)"
   ]
  },
  {
   "cell_type": "markdown",
   "metadata": {},
   "source": [
    "This function takes needed years as an input and collects all features and target variables"
   ]
  },
  {
   "cell_type": "code",
   "execution_count": 254,
   "metadata": {},
   "outputs": [],
   "source": [
    "def compute_features_and_targets(prev_y, cur_y, next_y):\n",
    "    prev_G = nx.Graph()\n",
    "    prev_G_full = nx.Graph()\n",
    "    \n",
    "    cur_G = nx.Graph()\n",
    "    cur_G_full = nx.Graph()\n",
    "    \n",
    "    next_G = nx.Graph()\n",
    "    \n",
    "    prev_G.add_weighted_edges_from(collect_edges(prev_y))\n",
    "    prev_G_full.add_weighted_edges_from(collect_edges(prev_y))\n",
    "    \n",
    "    cur_G.add_weighted_edges_from(collect_edges(cur_y))\n",
    "    cur_G_full.add_weighted_edges_from(collect_edges(cur_y))\n",
    "    \n",
    "    next_G.add_weighted_edges_from(collect_edges(next_y))\n",
    "    \n",
    "    del_all_extras(prev_G, cur_G, next_G)\n",
    "    \n",
    "    not_connected_1 = get_not_connected(prev_G)\n",
    "    not_connected_2 = get_not_connected(cur_G)\n",
    "    \n",
    "    similar_not_connected = [edge for edge in not_connected_1 if edge in not_connected_2]\n",
    "    \n",
    "    X = {edge: [] for edge in similar_not_connected}\n",
    "    Y = {edge: next_G.has_edge(*edge) for edge in similar_not_connected}\n",
    "    \n",
    "    \n",
    "    # features based on neighborhood\n",
    "    compute_jaccard(prev_G_full, cur_G_full, similar_not_connected, X)\n",
    "    compute_common_neighbors(prev_G_full, cur_G_full, similar_not_connected, X)\n",
    "    \n",
    "    \n",
    "    # features based on shortest path\n",
    "    compute_shortest_paths(prev_G_full, cur_G_full, similar_not_connected, X)\n",
    "    compute_pagerank(prev_G_full, cur_G_full, similar_not_connected, X)\n",
    "    \n",
    "    \n",
    "    # node2vec\n",
    "    compute_node2vec(prev_G, cur_G, similar_not_connected, X)\n",
    "    \n",
    "    \n",
    "    # graph density\n",
    "    compute_density(prev_G, cur_G, X)\n",
    "    \n",
    "    \n",
    "    # centralities\n",
    "    compute_closeness_centrality(prev_G, cur_G, X)\n",
    "    compute_betweenness_centrality(prev_G, cur_G, X)\n",
    "    # print(X)\n",
    "    \n",
    "#    for edge in similar_not_connected:\n",
    "#        if next_G.has_edge(*edge):\n",
    "#            print(edge)\n",
    "\n",
    "#    print(prev_G.nodes() == cur_G.nodes(), cur_G.nodes() == next_G.nodes())\n",
    "#    print(prev_G.edges() == cur_G.edges(), cur_G.edges() == next_G.edges())    \n",
    "    \n",
    "    \n",
    "    return X, Y\n",
    "\n",
    "    \n",
    "    \n",
    "    "
   ]
  },
  {
   "cell_type": "markdown",
   "metadata": {},
   "source": [
    "Now, let's process our uploaded data and collect X and Y for all time series (unfortunatly, years below 2012 got no suitable edges)"
   ]
  },
  {
   "cell_type": "code",
   "execution_count": 455,
   "metadata": {},
   "outputs": [],
   "source": [
    "def collect_all_X_Y():\n",
    "    X = dict()\n",
    "    Y = dict()\n",
    "    for year in years.keys():        \n",
    "        if year < 2018 and year > 2012:\n",
    "            print('Collecting year: ', year)\n",
    "            X[year], Y[year] = compute_features_and_targets(years[year],\n",
    "                                                            years[year+1],\n",
    "                                                            years[year+2])\n",
    "    return X, Y         "
   ]
  },
  {
   "cell_type": "code",
   "execution_count": 456,
   "metadata": {},
   "outputs": [
    {
     "name": "stdout",
     "output_type": "stream",
     "text": [
      "Collecting year:  2016\n",
      "Collecting year:  2014\n",
      "Collecting year:  2013\n",
      "Collecting year:  2015\n",
      "Collecting year:  2017\n"
     ]
    }
   ],
   "source": [
    "All_X, All_Y = collect_all_X_Y()"
   ]
  },
  {
   "cell_type": "code",
   "execution_count": 450,
   "metadata": {},
   "outputs": [],
   "source": [
    "train_years = [2016]\n",
    "test_years = [2013, 2014, 2015, 2017]"
   ]
  },
  {
   "cell_type": "code",
   "execution_count": 457,
   "metadata": {},
   "outputs": [],
   "source": [
    "def collect_X_Y_by_year(selected_years):\n",
    "    X = []\n",
    "    Y = []\n",
    "    for year in selected_years:\n",
    "        part_X = All_X[year]\n",
    "        part_Y = All_Y[year]\n",
    "        \n",
    "        keys = part_X.keys()\n",
    "        \n",
    "        for key in keys:\n",
    "            X.append(part_X[key])\n",
    "            Y.append(part_Y[key])\n",
    "    return X, Y"
   ]
  },
  {
   "cell_type": "code",
   "execution_count": 460,
   "metadata": {},
   "outputs": [],
   "source": [
    "X_train, Y_train = collect_X_Y_by_year(train_years)\n",
    "X_test, Y_test = collect_X_Y_by_year(test_years)\n",
    "\n",
    "Y_train = list(map(float, Y_train))\n",
    "Y_test = list(map(float, Y_test))"
   ]
  },
  {
   "cell_type": "markdown",
   "metadata": {},
   "source": [
    "Now let's look at our collected data"
   ]
  },
  {
   "cell_type": "code",
   "execution_count": 464,
   "metadata": {},
   "outputs": [
    {
     "data": {
      "text/plain": [
       "493.0"
      ]
     },
     "execution_count": 464,
     "metadata": {},
     "output_type": "execute_result"
    }
   ],
   "source": [
    "sum(Y_train)"
   ]
  },
  {
   "cell_type": "code",
   "execution_count": 463,
   "metadata": {},
   "outputs": [
    {
     "data": {
      "text/plain": [
       "48.0"
      ]
     },
     "execution_count": 463,
     "metadata": {},
     "output_type": "execute_result"
    }
   ],
   "source": [
    "sum(Y_test)"
   ]
  },
  {
   "cell_type": "code",
   "execution_count": 461,
   "metadata": {},
   "outputs": [
    {
     "data": {
      "text/plain": [
       "19414"
      ]
     },
     "execution_count": 461,
     "metadata": {},
     "output_type": "execute_result"
    }
   ],
   "source": [
    "len(X_train)"
   ]
  },
  {
   "cell_type": "code",
   "execution_count": 462,
   "metadata": {},
   "outputs": [
    {
     "data": {
      "text/plain": [
       "1480"
      ]
     },
     "execution_count": 462,
     "metadata": {},
     "output_type": "execute_result"
    }
   ],
   "source": [
    "len(X_test)"
   ]
  },
  {
   "cell_type": "markdown",
   "metadata": {},
   "source": [
    "While we've chosen only one time period for the training set, leaving the rest time periods for the test, testing set is still very small, with a little number of appearde edges, well, that's all what we've got, now we shall proceed"
   ]
  },
  {
   "cell_type": "markdown",
   "metadata": {},
   "source": [
    "Let's start with *check scores* function, which will evaluate all the needed metrics"
   ]
  },
  {
   "cell_type": "code",
   "execution_count": 427,
   "metadata": {},
   "outputs": [],
   "source": [
    "from sklearn.metrics import mean_squared_error as MSE\n",
    "from sklearn.metrics import f1_score\n",
    "from sklearn.metrics import accuracy_score\n",
    "from sklearn.metrics import precision_score\n",
    "from sklearn.metrics import recall_score"
   ]
  },
  {
   "cell_type": "code",
   "execution_count": 465,
   "metadata": {},
   "outputs": [],
   "source": [
    "def check_scores(Y_true, Y_pred):\n",
    "    print('Accuracy score: ', accuracy_score(Y_true, Y_pred))\n",
    "    print('Precision score: ', precision_score(Y_true, Y_pred))\n",
    "    print('Recall score: ', recall_score(Y_true, Y_pred))\n",
    "    print('F-score: ', f1_score(Y_true, Y_pred))\n",
    "    print('MSE: ', MSE(Y_true, Y_pred))"
   ]
  },
  {
   "cell_type": "markdown",
   "metadata": {},
   "source": [
    "As we've got bianry classification problem, I've decided to use Random Forest, Logistic Regression, SVM and Ada Boost"
   ]
  },
  {
   "cell_type": "code",
   "execution_count": 429,
   "metadata": {},
   "outputs": [],
   "source": [
    "from sklearn.ensemble import RandomForestClassifier\n",
    "from sklearn.linear_model import LogisticRegression\n",
    "from sklearn import svm\n",
    "from sklearn.ensemble import AdaBoostClassifier"
   ]
  },
  {
   "cell_type": "markdown",
   "metadata": {},
   "source": [
    "## Random Forest"
   ]
  },
  {
   "cell_type": "code",
   "execution_count": 485,
   "metadata": {},
   "outputs": [
    {
     "name": "stdout",
     "output_type": "stream",
     "text": [
      "Accuracy score:  0.9675675675675676\n",
      "Precision score:  0.0\n",
      "Recall score:  0.0\n",
      "F-score:  0.0\n",
      "MSE:  0.032432432432432434\n"
     ]
    },
    {
     "name": "stderr",
     "output_type": "stream",
     "text": [
      "/Users/alex/Workspace/4th_grade/Graphs_2/env/lib/python3.7/site-packages/sklearn/metrics/classification.py:1143: UndefinedMetricWarning: Precision is ill-defined and being set to 0.0 due to no predicted samples.\n",
      "  'precision', 'predicted', average, warn_for)\n",
      "/Users/alex/Workspace/4th_grade/Graphs_2/env/lib/python3.7/site-packages/sklearn/metrics/classification.py:1143: UndefinedMetricWarning: F-score is ill-defined and being set to 0.0 due to no predicted samples.\n",
      "  'precision', 'predicted', average, warn_for)\n"
     ]
    }
   ],
   "source": [
    "RF_clf = RandomForestClassifier(n_estimators=500)\n",
    "RF_clf.fit(X_train, Y_train)\n",
    "check_scores(Y_test, RF_clf.predict(X_test))"
   ]
  },
  {
   "cell_type": "code",
   "execution_count": 468,
   "metadata": {},
   "outputs": [
    {
     "name": "stdout",
     "output_type": "stream",
     "text": [
      "Accuracy score:  1.0\n",
      "Precision score:  1.0\n",
      "Recall score:  1.0\n",
      "F-score:  1.0\n",
      "MSE:  0.0\n"
     ]
    }
   ],
   "source": [
    "check_scores(Y_train, RF_clf.predict(X_train))"
   ]
  },
  {
   "cell_type": "markdown",
   "metadata": {},
   "source": [
    "## SVM"
   ]
  },
  {
   "cell_type": "code",
   "execution_count": 472,
   "metadata": {},
   "outputs": [
    {
     "name": "stdout",
     "output_type": "stream",
     "text": [
      "Accuracy score:  0.9675675675675676\n",
      "Precision score:  0.0\n",
      "Recall score:  0.0\n",
      "F-score:  0.0\n",
      "MSE:  0.032432432432432434\n"
     ]
    },
    {
     "name": "stderr",
     "output_type": "stream",
     "text": [
      "/Users/alex/Workspace/4th_grade/Graphs_2/env/lib/python3.7/site-packages/sklearn/metrics/classification.py:1143: UndefinedMetricWarning: Precision is ill-defined and being set to 0.0 due to no predicted samples.\n",
      "  'precision', 'predicted', average, warn_for)\n",
      "/Users/alex/Workspace/4th_grade/Graphs_2/env/lib/python3.7/site-packages/sklearn/metrics/classification.py:1143: UndefinedMetricWarning: F-score is ill-defined and being set to 0.0 due to no predicted samples.\n",
      "  'precision', 'predicted', average, warn_for)\n"
     ]
    }
   ],
   "source": [
    "svm_clf = svm.SVC(gamma='auto')\n",
    "svm_clf.fit(X_train, Y_train)\n",
    "check_scores(Y_test, svm_clf.predict(X_test))"
   ]
  },
  {
   "cell_type": "code",
   "execution_count": 473,
   "metadata": {},
   "outputs": [
    {
     "name": "stdout",
     "output_type": "stream",
     "text": [
      "Accuracy score:  0.9771814154733698\n",
      "Precision score:  0.7272727272727273\n",
      "Recall score:  0.16227180527383367\n",
      "F-score:  0.26533996683250416\n",
      "MSE:  0.022818584526630267\n"
     ]
    }
   ],
   "source": [
    "check_scores(Y_train, svm_clf.predict(X_train))"
   ]
  },
  {
   "cell_type": "markdown",
   "metadata": {},
   "source": [
    "## Logistic Regression"
   ]
  },
  {
   "cell_type": "code",
   "execution_count": 483,
   "metadata": {},
   "outputs": [
    {
     "name": "stdout",
     "output_type": "stream",
     "text": [
      "Accuracy score:  0.9675675675675676\n",
      "Precision score:  0.0\n",
      "Recall score:  0.0\n",
      "F-score:  0.0\n",
      "MSE:  0.032432432432432434\n"
     ]
    },
    {
     "name": "stderr",
     "output_type": "stream",
     "text": [
      "/Users/alex/Workspace/4th_grade/Graphs_2/env/lib/python3.7/site-packages/sklearn/metrics/classification.py:1143: UndefinedMetricWarning: Precision is ill-defined and being set to 0.0 due to no predicted samples.\n",
      "  'precision', 'predicted', average, warn_for)\n",
      "/Users/alex/Workspace/4th_grade/Graphs_2/env/lib/python3.7/site-packages/sklearn/metrics/classification.py:1143: UndefinedMetricWarning: F-score is ill-defined and being set to 0.0 due to no predicted samples.\n",
      "  'precision', 'predicted', average, warn_for)\n"
     ]
    }
   ],
   "source": [
    "LR_clf = LogisticRegression(solver='liblinear').fit(X_train, Y_train)\n",
    "\n",
    "check_scores(Y_test, LR_clf.predict(X_test))"
   ]
  },
  {
   "cell_type": "code",
   "execution_count": 484,
   "metadata": {},
   "outputs": [
    {
     "name": "stdout",
     "output_type": "stream",
     "text": [
      "Accuracy score:  0.9708457813948697\n",
      "Precision score:  0.0\n",
      "Recall score:  0.0\n",
      "F-score:  0.0\n",
      "MSE:  0.02915421860513032\n"
     ]
    }
   ],
   "source": [
    "check_scores(Y_train, LR_clf.predict(X_train))"
   ]
  },
  {
   "cell_type": "markdown",
   "metadata": {},
   "source": [
    "## Ada"
   ]
  },
  {
   "cell_type": "code",
   "execution_count": 476,
   "metadata": {},
   "outputs": [
    {
     "name": "stdout",
     "output_type": "stream",
     "text": [
      "Accuracy score:  0.9675675675675676\n",
      "Precision score:  0.0\n",
      "Recall score:  0.0\n",
      "F-score:  0.0\n",
      "MSE:  0.032432432432432434\n"
     ]
    },
    {
     "name": "stderr",
     "output_type": "stream",
     "text": [
      "/Users/alex/Workspace/4th_grade/Graphs_2/env/lib/python3.7/site-packages/sklearn/metrics/classification.py:1143: UndefinedMetricWarning: Precision is ill-defined and being set to 0.0 due to no predicted samples.\n",
      "  'precision', 'predicted', average, warn_for)\n",
      "/Users/alex/Workspace/4th_grade/Graphs_2/env/lib/python3.7/site-packages/sklearn/metrics/classification.py:1143: UndefinedMetricWarning: F-score is ill-defined and being set to 0.0 due to no predicted samples.\n",
      "  'precision', 'predicted', average, warn_for)\n"
     ]
    }
   ],
   "source": [
    "Ada_clf = AdaBoostClassifier()\n",
    "Ada_clf.fit(X_train, Y_train)\n",
    "check_scores(Y_test, Ada_clf.predict(X_test))"
   ]
  },
  {
   "cell_type": "code",
   "execution_count": 477,
   "metadata": {},
   "outputs": [
    {
     "name": "stdout",
     "output_type": "stream",
     "text": [
      "Accuracy score:  0.9770268878129185\n",
      "Precision score:  0.5951417004048583\n",
      "Recall score:  0.29817444219066935\n",
      "F-score:  0.39729729729729724\n",
      "MSE:  0.022973112187081486\n"
     ]
    }
   ],
   "source": [
    "check_scores(Y_train, Ada_clf.predict(X_train))"
   ]
  },
  {
   "cell_type": "markdown",
   "metadata": {},
   "source": [
    "Well I'm kind of disappointed, because of low precision, recall and F scores\n",
    "\n",
    "It might be because of small number of appeared edges int the dataset"
   ]
  },
  {
   "cell_type": "code",
   "execution_count": null,
   "metadata": {},
   "outputs": [],
   "source": []
  },
  {
   "cell_type": "code",
   "execution_count": null,
   "metadata": {},
   "outputs": [],
   "source": []
  },
  {
   "cell_type": "code",
   "execution_count": 493,
   "metadata": {},
   "outputs": [],
   "source": [
    "import torch\n",
    "import torch.nn as nn\n",
    "from torch.autograd import Variable\n",
    "import torch.optim as optim\n",
    "\n",
    "import matplotlib.pyplot as plt"
   ]
  },
  {
   "cell_type": "code",
   "execution_count": 511,
   "metadata": {},
   "outputs": [],
   "source": [
    "class Net(nn.Module):\n",
    "    \n",
    "    def __init__(self):\n",
    "        super().__init__()\n",
    "        self.fc1 = nn.Linear(142, 50)\n",
    "        self.relu1 = nn.ReLU()\n",
    "        self.dout = nn.Dropout(0.2)\n",
    "        self.fc2 = nn.Linear(50, 100)\n",
    "        self.prelu = nn.PReLU(1)\n",
    "        self.out = nn.Linear(100, 1)\n",
    "        self.out_act = nn.Sigmoid()\n",
    "        \n",
    "    def forward(self, input_):\n",
    "        a1 = self.fc1(input_)\n",
    "        h1 = self.relu1(a1)\n",
    "        dout = self.dout(h1)\n",
    "        a2 = self.fc2(dout)\n",
    "        h2 = self.prelu(a2)\n",
    "        a3 = self.out(h2)\n",
    "        y = self.out_act(a3)\n",
    "        return y\n",
    "    \n",
    "net = Net()\n",
    "opt = optim.Adam(net.parameters(), lr=0.001, betas=(0.9, 0.999))\n",
    "criterion = nn.BCELoss()"
   ]
  },
  {
   "cell_type": "code",
   "execution_count": null,
   "metadata": {},
   "outputs": [],
   "source": [
    "\n"
   ]
  },
  {
   "cell_type": "code",
   "execution_count": 513,
   "metadata": {},
   "outputs": [],
   "source": [
    "def train_epoch(model, opt, criterion, batch_size=50):\n",
    "    model.train()\n",
    "    losses = []\n",
    "    for beg_i in range(0, torch.Tensor(X_train).size(0), batch_size):\n",
    "        x_batch = torch.Tensor(X_train)[beg_i:beg_i + batch_size, :]\n",
    "        y_batch = torch.reshape(torch.Tensor(Y_train), (len(Y_train), 1))[beg_i:beg_i + batch_size, :]\n",
    "        x_batch = Variable(x_batch)\n",
    "        y_batch = Variable(y_batch)\n",
    "\n",
    "        opt.zero_grad()\n",
    "        y_hat = net(x_batch)\n",
    "        loss = criterion(y_hat, y_batch)\n",
    "        loss.backward()\n",
    "        opt.step()        \n",
    "        losses.append(loss.data.numpy())\n",
    "    return losses"
   ]
  },
  {
   "cell_type": "code",
   "execution_count": 517,
   "metadata": {},
   "outputs": [
    {
     "data": {
      "image/png": "[encoded data removed]",
      "text/plain": [
       "<Figure size 432x288 with 1 Axes>"
      ]
     },
     "metadata": {
      "needs_background": "light"
     },
     "output_type": "display_data"
    },
    {
     "ename": "KeyboardInterrupt",
     "evalue": "",
     "output_type": "error",
     "traceback": [
      "\u001b[0;31m---------------------------------------------------------------------------\u001b[0m",
      "\u001b[0;31mKeyboardInterrupt\u001b[0m                         Traceback (most recent call last)",
      "\u001b[0;32m<ipython-input-517-043570e1b9e6>\u001b[0m in \u001b[0;36m<module>\u001b[0;34m\u001b[0m\n\u001b[1;32m      3\u001b[0m \u001b[0mnum_epochs\u001b[0m \u001b[0;34m=\u001b[0m \u001b[0;36m20\u001b[0m\u001b[0;34m\u001b[0m\u001b[0m\n\u001b[1;32m      4\u001b[0m \u001b[0;32mfor\u001b[0m \u001b[0me\u001b[0m \u001b[0;32min\u001b[0m \u001b[0mrange\u001b[0m\u001b[0;34m(\u001b[0m\u001b[0mnum_epochs\u001b[0m\u001b[0;34m)\u001b[0m\u001b[0;34m:\u001b[0m\u001b[0;34m\u001b[0m\u001b[0m\n\u001b[0;32m----> 5\u001b[0;31m     \u001b[0me_losses\u001b[0m \u001b[0;34m+=\u001b[0m \u001b[0mtrain_epoch\u001b[0m\u001b[0;34m(\u001b[0m\u001b[0mnet\u001b[0m\u001b[0;34m,\u001b[0m \u001b[0mopt\u001b[0m\u001b[0;34m,\u001b[0m \u001b[0mcriterion\u001b[0m\u001b[0;34m)\u001b[0m\u001b[0;34m\u001b[0m\u001b[0m\n\u001b[0m\u001b[1;32m      6\u001b[0m     \u001b[0mclear_output\u001b[0m\u001b[0;34m(\u001b[0m\u001b[0;32mTrue\u001b[0m\u001b[0;34m)\u001b[0m\u001b[0;34m\u001b[0m\u001b[0m\n\u001b[1;32m      7\u001b[0m     \u001b[0mplt\u001b[0m\u001b[0;34m.\u001b[0m\u001b[0mplot\u001b[0m\u001b[0;34m(\u001b[0m\u001b[0me_losses\u001b[0m\u001b[0;34m,\u001b[0m\u001b[0mlabel\u001b[0m\u001b[0;34m=\u001b[0m\u001b[0;34m'loss'\u001b[0m\u001b[0;34m)\u001b[0m\u001b[0;34m\u001b[0m\u001b[0m\n",
      "\u001b[0;32m<ipython-input-513-90af165482c6>\u001b[0m in \u001b[0;36mtrain_epoch\u001b[0;34m(model, opt, criterion, batch_size)\u001b[0m\n\u001b[1;32m      3\u001b[0m     \u001b[0mlosses\u001b[0m \u001b[0;34m=\u001b[0m \u001b[0;34m[\u001b[0m\u001b[0;34m]\u001b[0m\u001b[0;34m\u001b[0m\u001b[0m\n\u001b[1;32m      4\u001b[0m     \u001b[0;32mfor\u001b[0m \u001b[0mbeg_i\u001b[0m \u001b[0;32min\u001b[0m \u001b[0mrange\u001b[0m\u001b[0;34m(\u001b[0m\u001b[0;36m0\u001b[0m\u001b[0;34m,\u001b[0m \u001b[0mtorch\u001b[0m\u001b[0;34m.\u001b[0m\u001b[0mTensor\u001b[0m\u001b[0;34m(\u001b[0m\u001b[0mX_train\u001b[0m\u001b[0;34m)\u001b[0m\u001b[0;34m.\u001b[0m\u001b[0msize\u001b[0m\u001b[0;34m(\u001b[0m\u001b[0;36m0\u001b[0m\u001b[0;34m)\u001b[0m\u001b[0;34m,\u001b[0m \u001b[0mbatch_size\u001b[0m\u001b[0;34m)\u001b[0m\u001b[0;34m:\u001b[0m\u001b[0;34m\u001b[0m\u001b[0m\n\u001b[0;32m----> 5\u001b[0;31m         \u001b[0mx_batch\u001b[0m \u001b[0;34m=\u001b[0m \u001b[0mtorch\u001b[0m\u001b[0;34m.\u001b[0m\u001b[0mTensor\u001b[0m\u001b[0;34m(\u001b[0m\u001b[0mX_train\u001b[0m\u001b[0;34m)\u001b[0m\u001b[0;34m[\u001b[0m\u001b[0mbeg_i\u001b[0m\u001b[0;34m:\u001b[0m\u001b[0mbeg_i\u001b[0m \u001b[0;34m+\u001b[0m \u001b[0mbatch_size\u001b[0m\u001b[0;34m,\u001b[0m \u001b[0;34m:\u001b[0m\u001b[0;34m]\u001b[0m\u001b[0;34m\u001b[0m\u001b[0m\n\u001b[0m\u001b[1;32m      6\u001b[0m         \u001b[0my_batch\u001b[0m \u001b[0;34m=\u001b[0m \u001b[0mtorch\u001b[0m\u001b[0;34m.\u001b[0m\u001b[0mreshape\u001b[0m\u001b[0;34m(\u001b[0m\u001b[0mtorch\u001b[0m\u001b[0;34m.\u001b[0m\u001b[0mTensor\u001b[0m\u001b[0;34m(\u001b[0m\u001b[0mY_train\u001b[0m\u001b[0;34m)\u001b[0m\u001b[0;34m,\u001b[0m \u001b[0;34m(\u001b[0m\u001b[0mlen\u001b[0m\u001b[0;34m(\u001b[0m\u001b[0mY_train\u001b[0m\u001b[0;34m)\u001b[0m\u001b[0;34m,\u001b[0m \u001b[0;36m1\u001b[0m\u001b[0;34m)\u001b[0m\u001b[0;34m)\u001b[0m\u001b[0;34m[\u001b[0m\u001b[0mbeg_i\u001b[0m\u001b[0;34m:\u001b[0m\u001b[0mbeg_i\u001b[0m \u001b[0;34m+\u001b[0m \u001b[0mbatch_size\u001b[0m\u001b[0;34m,\u001b[0m \u001b[0;34m:\u001b[0m\u001b[0;34m]\u001b[0m\u001b[0;34m\u001b[0m\u001b[0m\n\u001b[1;32m      7\u001b[0m         \u001b[0mx_batch\u001b[0m \u001b[0;34m=\u001b[0m \u001b[0mVariable\u001b[0m\u001b[0;34m(\u001b[0m\u001b[0mx_batch\u001b[0m\u001b[0;34m)\u001b[0m\u001b[0;34m\u001b[0m\u001b[0m\n",
      "\u001b[0;31mKeyboardInterrupt\u001b[0m: "
     ]
    }
   ],
   "source": [
    "from IPython.display import clear_output\n",
    "e_losses = []\n",
    "num_epochs = 20\n",
    "for e in range(num_epochs):\n",
    "    e_losses += train_epoch(net, opt, criterion)\n",
    "    clear_output(True)\n",
    "    plt.plot(e_losses,label='loss')\n",
    "    plt.legend()\n",
    "    plt.show()"
   ]
  }
 ],
 "metadata": {
  "kernelspec": {
   "display_name": "Python 3",
   "language": "python",
   "name": "python3"
  },
  "language_info": {
   "codemirror_mode": {
    "name": "ipython",
    "version": 3
   },
   "file_extension": ".py",
   "mimetype": "text/x-python",
   "name": "python",
   "nbconvert_exporter": "python",
   "pygments_lexer": "ipython3",
   "version": "3.7.0"
  }
 },
 "nbformat": 4,
 "nbformat_minor": 1
}
